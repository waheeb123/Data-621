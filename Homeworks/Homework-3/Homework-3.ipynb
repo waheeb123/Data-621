{
  "nbformat": 4,
  "nbformat_minor": 0,
  "metadata": {
    "colab": {
      "provenance": [],
      "authorship_tag": "ABX9TyP+NYgK6HNEnYiDOkLxlmhd"
    },
    "kernelspec": {
      "name": "python3",
      "display_name": "Python 3"
    },
    "language_info": {
      "name": "python"
    }
  },
  "cells": [
    {
      "cell_type": "markdown",
      "source": [
        "# Homework-3\n",
        "\n",
        "**Waheeb Algabri, Joe Garcia, Lwin Shwe, Mikhail Broomes**"
      ],
      "metadata": {
        "id": "ONoPeT3p7P2r"
      }
    },
    {
      "cell_type": "code",
      "source": [
        "import pandas as pd\n",
        "import numpy as np\n",
        "import matplotlib.pyplot as plt\n",
        "import seaborn as sns\n",
        "import statsmodels.api as sm\n",
        "from sklearn import datasets\n",
        "from sklearn.model_selection import train_test_split\n",
        "from sklearn.linear_model import LinearRegression\n",
        "from sklearn.metrics import mean_squared_error, r2_score\n",
        "from sklearn.preprocessing import StandardScaler\n",
        "from sklearn.pipeline import make_pipeline\n",
        "from scipy import stats\n",
        "import itertools\n",
        "from sklearn import datasets\n",
        "from sklearn.metrics import accuracy_score\n",
        "from sklearn.ensemble import RandomForestClassifier\n",
        "from sklearn.linear_model import LogisticRegression\n",
        "from sklearn.metrics import roc_curve, auc\n"
      ],
      "metadata": {
        "id": "TxbnrCE97eOf"
      },
      "execution_count": 6,
      "outputs": []
    },
    {
      "cell_type": "markdown",
      "source": [
        "## Homework 3 - Logistic Regression\n",
        "\n",
        "### Analysis of Factors that Influence Crime Rates:\n",
        "\n",
        "In this homework assignment, we'll delve into examining, dissecting, and modeling a dataset that provides insights into crime across different neighborhoods within a bustling metropolis. Each entry in the dataset includes a variable denoting whether the crime rate exceeds the median value `(1)` or falls below it `(0)`\n",
        "Our goal is to construct a binary logistic regression model using the training dataset. This model aims to forecast whether a neighborhood is prone to experiencing elevated levels of crime.\n",
        "Here's a brief rundown of the key variables in the dataset:\n",
        "\n"
      ],
      "metadata": {
        "id": "3LPS3Yk39Cbo"
      }
    },
    {
      "cell_type": "markdown",
      "source": [
        "|Column|Description|\n",
        "|--|--|\n",
        "|`zn`|proportion of residential land zoned for large lots (over 25000 square feet) (*predictor variable*)|\n",
        "|`indus`|proportion of non-retail business acres per suburb (*predictor variable*)|\n",
        "|`chas`|a dummy var. for whether the suburb borders the Charles River (1) or not (0) (*predictor variable*)|\n",
        "|`nox`|nitrogen oxides concentration (parts per 10 million) (*predictor variable*)|\n",
        "|`rm`|average number of rooms per dwelling (*predictor variable*)|\n",
        "|`age`|proportion of owner-occupied units built prior to 1940 (*predictor variable*)\n",
        "|`dis`|weighted mean of distances to five Boston employment centers (*predictor variable*)\n",
        "|`rad`|index of accessibility to radial highways (*predictor variable*)|\n",
        "\n",
        "|**`target`**|**whether the crime rate is above the median crime rate (1) or not (0) (*response variable*)**|\n"
      ],
      "metadata": {
        "id": "qB4vjDO--EnQ"
      }
    },
    {
      "cell_type": "code",
      "source": [
        "# Load training and test data\n",
        "train_df = pd.read_csv(\"https://raw.githubusercontent.com/waheeb123/Data-621/main/Homeworks/Homework-3/crime-training-data\")\n",
        "test_df = pd.read_csv(\"https://raw.githubusercontent.com/waheeb123/Data-621/main/Homeworks/Homework-3/crime-evaluation-data\")\n"
      ],
      "metadata": {
        "id": "7bBQlbVW-fkV"
      },
      "execution_count": 12,
      "outputs": []
    },
    {
      "cell_type": "markdown",
      "source": [
        "## Data Exploration:"
      ],
      "metadata": {
        "id": "OnVZishS_h6i"
      }
    },
    {
      "cell_type": "code",
      "source": [
        "# Check the shape of the training dataset\n",
        "print(\"Shape of training dataset:\", train_df.shape)\n"
      ],
      "metadata": {
        "colab": {
          "base_uri": "https://localhost:8080/"
        },
        "id": "vLuN35gv_45H",
        "outputId": "9c72af7e-c302-483d-f20e-b3e13208d791"
      },
      "execution_count": 14,
      "outputs": [
        {
          "output_type": "stream",
          "name": "stdout",
          "text": [
            "Shape of training dataset: (466, 13)\n"
          ]
        }
      ]
    },
    {
      "cell_type": "markdown",
      "source": [
        "The dataset consists of 466 observations of 13 variables. There are 12 predictor variables and one response variable `target`"
      ],
      "metadata": {
        "id": "hXvhGnYb_vje"
      }
    },
    {
      "cell_type": "code",
      "source": [
        "# Display the structure of the training dataset\n",
        "print(train_df.info())"
      ],
      "metadata": {
        "colab": {
          "base_uri": "https://localhost:8080/"
        },
        "id": "fn5d6Vki_SAr",
        "outputId": "f4cda183-e2f0-4276-90ad-67aefd981451"
      },
      "execution_count": 15,
      "outputs": [
        {
          "output_type": "stream",
          "name": "stdout",
          "text": [
            "<class 'pandas.core.frame.DataFrame'>\n",
            "RangeIndex: 466 entries, 0 to 465\n",
            "Data columns (total 13 columns):\n",
            " #   Column   Non-Null Count  Dtype   \n",
            "---  ------   --------------  -----   \n",
            " 0   zn       466 non-null    float64 \n",
            " 1   indus    466 non-null    float64 \n",
            " 2   chas     466 non-null    category\n",
            " 3   nox      466 non-null    float64 \n",
            " 4   rm       466 non-null    float64 \n",
            " 5   age      466 non-null    float64 \n",
            " 6   dis      466 non-null    float64 \n",
            " 7   rad      466 non-null    int64   \n",
            " 8   tax      466 non-null    int64   \n",
            " 9   ptratio  466 non-null    float64 \n",
            " 10  lstat    466 non-null    float64 \n",
            " 11  medv     466 non-null    float64 \n",
            " 12  target   466 non-null    category\n",
            "dtypes: category(2), float64(9), int64(2)\n",
            "memory usage: 41.3 KB\n",
            "None\n"
          ]
        }
      ]
    },
    {
      "cell_type": "markdown",
      "source": [
        "All of the columns in the dataset are numeric, but the predictor variable `chas` is a dummy variable, as is the response variable `target` We re-code them as categories."
      ],
      "metadata": {
        "id": "UbtCwjjeALev"
      }
    },
    {
      "cell_type": "code",
      "source": [
        "# Convert 'chas' and 'target' columns to categorical variables\n",
        "train_df['chas'] = train_df['chas'].astype('category')\n",
        "train_df['target'] = train_df['target'].astype('category')\n"
      ],
      "metadata": {
        "id": "jyqVrIgAAFMr"
      },
      "execution_count": 19,
      "outputs": []
    },
    {
      "cell_type": "markdown",
      "source": [
        "Let's take a look at the summary statistics for the variables in the dataset."
      ],
      "metadata": {
        "id": "jA5NTTzBAvQC"
      }
    },
    {
      "cell_type": "code",
      "source": [
        "# Summary statistics for the dataset\n",
        "print(train_df.describe())\n",
        "\n",
        "# Standard deviation\n",
        "print(train_df.drop(columns=['chas', 'target']).std())\n"
      ],
      "metadata": {
        "colab": {
          "base_uri": "https://localhost:8080/"
        },
        "id": "Hu3dNXTnAtU6",
        "outputId": "22bf55ad-9c17-4e1e-ea16-964da420825a"
      },
      "execution_count": 20,
      "outputs": [
        {
          "output_type": "stream",
          "name": "stdout",
          "text": [
            "               zn       indus         nox          rm         age         dis  \\\n",
            "count  466.000000  466.000000  466.000000  466.000000  466.000000  466.000000   \n",
            "mean    11.577253   11.105021    0.554311    6.290674   68.367597    3.795693   \n",
            "std     23.364651    6.845855    0.116667    0.704851   28.321378    2.106950   \n",
            "min      0.000000    0.460000    0.389000    3.863000    2.900000    1.129600   \n",
            "25%      0.000000    5.145000    0.448000    5.887250   43.875000    2.101425   \n",
            "50%      0.000000    9.690000    0.538000    6.210000   77.150000    3.190950   \n",
            "75%     16.250000   18.100000    0.624000    6.629750   94.100000    5.214600   \n",
            "max    100.000000   27.740000    0.871000    8.780000  100.000000   12.126500   \n",
            "\n",
            "              rad         tax     ptratio       lstat        medv  \n",
            "count  466.000000  466.000000  466.000000  466.000000  466.000000  \n",
            "mean     9.530043  409.502146   18.398498   12.631459   22.589270  \n",
            "std      8.685927  167.900089    2.196845    7.101891    9.239681  \n",
            "min      1.000000  187.000000   12.600000    1.730000    5.000000  \n",
            "25%      4.000000  281.000000   16.900000    7.042500   17.025000  \n",
            "50%      5.000000  334.500000   18.900000   11.350000   21.200000  \n",
            "75%     24.000000  666.000000   20.200000   16.930000   25.000000  \n",
            "max     24.000000  711.000000   22.000000   37.970000   50.000000  \n",
            "zn          23.364651\n",
            "indus        6.845855\n",
            "nox          0.116667\n",
            "rm           0.704851\n",
            "age         28.321378\n",
            "dis          2.106950\n",
            "rad          8.685927\n",
            "tax        167.900089\n",
            "ptratio      2.196845\n",
            "lstat        7.101891\n",
            "medv         9.239681\n",
            "dtype: float64\n"
          ]
        }
      ]
    },
    {
      "cell_type": "markdown",
      "source": [
        "We can see the mean, median, standard deviations, etc. for each of the variables in the dataset.\n",
        "\n",
        "For the `target` variable, there are 229 instances where crime level is above the median level (`target` = 1) and 237 instances where crime is not above the median level (`target` = 0). Since the response variable is fairly balanced between its two levels, the data will not require any resampling to weight the distributions for each level.\n",
        "\n",
        "The `tax` variable does not follow our expectations that higher property tax rates would correspond with less crime.\n",
        "\n",
        "The minimum, first quantile, and median values for `zn` are all 0. This variable refers to the proportion of residential land zoned for large lots. Most of the neighborhoods in this dataset do not have land that is zoned for large lots.\n",
        "\n",
        "For the `age` variable, the median is higher than the mean. This indicates the data is left-skewed, meaning there is a greater proportion of homes that were built prior to 1940 in the dataset.\n",
        "\n",
        "There do not appear to be any missing values to address. Let's validate this.\n"
      ],
      "metadata": {
        "id": "dHuvID1bBN05"
      }
    }
  ]
}